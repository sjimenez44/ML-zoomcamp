{
 "cells": [
  {
   "cell_type": "markdown",
   "id": "da725024-d7ac-49bb-a8d6-43eb456ff21e",
   "metadata": {},
   "source": [
    "## Homework"
   ]
  },
  {
   "cell_type": "markdown",
   "id": "fa569b2d-43af-47ea-8dd8-34deead91f20",
   "metadata": {},
   "source": [
    "### Set up the environment\r\n",
    "\r\n",
    "You need to install Python, NumPy, Pandas, Matplotlib and Seaborn. For that, you can the instructions from\r\n",
    "[06-environment.md](https://github.com/alexeygrigorev/mlbookcamp-code/blob/master/course-zoomcamp/01-intro/06-environment.md)."
   ]
  },
  {
   "cell_type": "code",
   "execution_count": 1,
   "id": "36a8ebc5-495d-488f-a15b-c84d57183a80",
   "metadata": {},
   "outputs": [],
   "source": [
    "import numpy as np\n",
    "import pandas as pd"
   ]
  },
  {
   "cell_type": "markdown",
   "id": "7de74cac-80d5-4dd4-89d2-c528b7364b23",
   "metadata": {},
   "source": [
    "### Question 1\r\n",
    "\r\n",
    "What's the version of Pandas that you installed?\r\n",
    "\r\n",
    "You can get the version information using the `__version__` field:"
   ]
  },
  {
   "cell_type": "code",
   "execution_count": 2,
   "id": "8fb01580-859d-453f-94a6-1e50e3dab332",
   "metadata": {},
   "outputs": [
    {
     "data": {
      "text/plain": [
       "'1.25.2'"
      ]
     },
     "execution_count": 2,
     "metadata": {},
     "output_type": "execute_result"
    }
   ],
   "source": [
    "np.__version__"
   ]
  },
  {
   "cell_type": "markdown",
   "id": "cc85e78a-f0cb-4a2a-98d6-969c17eab2ba",
   "metadata": {},
   "source": [
    "### Getting the data \r\n",
    "\r\n",
    "For this homework, we'll use the California Housing Prices dataset. Download it from \r\n",
    "[here](https://raw.githubusercontent.com/alexeygrigorev/datasets/master/housing.csv).eld:"
   ]
  },
  {
   "cell_type": "code",
   "execution_count": 3,
   "id": "de0bf4e3-b317-4782-b9bc-82ab806fa144",
   "metadata": {},
   "outputs": [],
   "source": [
    "data = pd.read_csv(\"https://raw.githubusercontent.com/alexeygrigorev/datasets/master/housing.csv\")"
   ]
  },
  {
   "cell_type": "markdown",
   "id": "81cf6a11-eb72-414f-8a58-0c763cd262b5",
   "metadata": {},
   "source": [
    "### Question 2\r\n",
    "How many columns are in the dataset? **10**\n",
    "\n",
    ".t?ld:"
   ]
  },
  {
   "cell_type": "code",
   "execution_count": 4,
   "id": "6905dd1e-290c-4a34-8abe-d7a3c23eb7c1",
   "metadata": {},
   "outputs": [
    {
     "data": {
      "text/plain": [
       "10"
      ]
     },
     "execution_count": 4,
     "metadata": {},
     "output_type": "execute_result"
    }
   ],
   "source": [
    "data.shape[1]"
   ]
  },
  {
   "cell_type": "markdown",
   "id": "8c5cb92a-211d-4706-a38e-1cab55d1c307",
   "metadata": {},
   "source": [
    "### Question 3\r\n",
    "Which columns in the dataset have missing values? **total_bedrooms**\n",
    "\n",
    ".datasetd:"
   ]
  },
  {
   "cell_type": "code",
   "execution_count": 6,
   "id": "3cbf22f5-0e2b-4867-931f-991f683fc6f6",
   "metadata": {},
   "outputs": [
    {
     "data": {
      "text/plain": [
       "longitude             False\n",
       "latitude              False\n",
       "housing_median_age    False\n",
       "total_rooms           False\n",
       "total_bedrooms         True\n",
       "population            False\n",
       "households            False\n",
       "median_income         False\n",
       "median_house_value    False\n",
       "ocean_proximity       False\n",
       "dtype: bool"
      ]
     },
     "execution_count": 6,
     "metadata": {},
     "output_type": "execute_result"
    }
   ],
   "source": [
    "data.isnull().sum() > 0"
   ]
  },
  {
   "cell_type": "markdown",
   "id": "915bb68c-c1eb-4823-a1bf-ca12403b7020",
   "metadata": {},
   "source": [
    "### Question 4\r\n",
    "How many unique values does the *ocean_proximity* column have? **5**\n",
    "\n",
    ".e?d:"
   ]
  },
  {
   "cell_type": "code",
   "execution_count": 8,
   "id": "9de3cd33-f883-4d8a-9837-b8a3f2f91d83",
   "metadata": {},
   "outputs": [
    {
     "data": {
      "text/plain": [
       "5"
      ]
     },
     "execution_count": 8,
     "metadata": {},
     "output_type": "execute_result"
    }
   ],
   "source": [
    "data['ocean_proximity'].nunique()"
   ]
  },
  {
   "cell_type": "markdown",
   "id": "6f064f9a-584e-45dd-a9c2-6d28bc0d9a67",
   "metadata": {},
   "source": [
    "### Question 5\r\n",
    "What's the average value of the *median_house_value* for the houses located near the bay? **259212.3117**\n",
    "\n",
    ".y?d:"
   ]
  },
  {
   "cell_type": "code",
   "execution_count": 9,
   "id": "36ab0415-59a8-4414-8934-d5811310aadf",
   "metadata": {},
   "outputs": [
    {
     "data": {
      "text/plain": [
       "259212.31179039303"
      ]
     },
     "execution_count": 9,
     "metadata": {},
     "output_type": "execute_result"
    }
   ],
   "source": [
    "data[data['ocean_proximity'] == 'NEAR BAY']['median_house_value'].mean()"
   ]
  },
  {
   "cell_type": "markdown",
   "id": "48b39b1a-b914-4300-b877-bd6ec78c0e0a",
   "metadata": {},
   "source": [
    "### Question 6\n",
    "\n",
    "1. Calculate the average of `total_bedrooms` column in the dataset.\n",
    "2. Use the `fillna` method to fill the missing values in `total_bedrooms` with the mean value from the previous step.\n",
    "3. Now, calculate the average of `total_bedrooms` again.\n",
    "4. Has it changed?\n",
    "\n",
    "Has it changed? **No**\n",
    "\n",
    "."
   ]
  },
  {
   "cell_type": "code",
   "execution_count": 10,
   "id": "5ad3a5ed-3170-42e2-848d-3782a522928c",
   "metadata": {},
   "outputs": [
    {
     "name": "stdout",
     "output_type": "stream",
     "text": [
      "Average of bedrooms before to fillna 537.8705525375618\n"
     ]
    }
   ],
   "source": [
    "avg_bedrooms = data['total_bedrooms'].mean()\n",
    "print(f'Average of bedrooms before to fillna {avg_bedrooms}')"
   ]
  },
  {
   "cell_type": "code",
   "execution_count": 11,
   "id": "18b54747-3921-4215-b876-26e0e3878231",
   "metadata": {},
   "outputs": [
    {
     "name": "stdout",
     "output_type": "stream",
     "text": [
      "Average of bedrooms after to fillna 537.8705525375617\n"
     ]
    }
   ],
   "source": [
    "data['total_bedrooms'] = data['total_bedrooms'].fillna(value=avg_bedrooms)\n",
    "avg_bedrooms_fillna = data['total_bedrooms'].mean()\n",
    "print(f'Average of bedrooms after to fillna {avg_bedrooms_fillna}')"
   ]
  },
  {
   "cell_type": "markdown",
   "id": "dd68113d-4a4b-4136-8c43-aab1fccb04d1",
   "metadata": {},
   "source": [
    "### Question 7\n",
    "\n",
    "1. Select all the options located on islands.\n",
    "2. Select only columns `housing_median_age`, `total_rooms`, `total_bedrooms`.\n",
    "3. Get the underlying NumPy array. Let's call it `X`.\n",
    "4. Compute matrix-matrix multiplication between the transpose of `X` and `X`. To get the transpose, use `X.T`. Let's call the result `XTX`.\n",
    "5. Compute the inverse of `XTX`.\n",
    "6. Create an array `y` with values `[950, 1300, 800, 1000, 1300]`.\n",
    "7. Multiply the inverse of `XTX` with the transpose of `X`, and then multiply the result by `y`. Call the result `w`.\n",
    "8. What's the value of the last element of `w`? **5.6992**"
   ]
  },
  {
   "cell_type": "code",
   "execution_count": 13,
   "id": "8df56751-d66b-4815-ade0-f00cb6d58a07",
   "metadata": {},
   "outputs": [
    {
     "data": {
      "text/html": [
       "<div>\n",
       "<style scoped>\n",
       "    .dataframe tbody tr th:only-of-type {\n",
       "        vertical-align: middle;\n",
       "    }\n",
       "\n",
       "    .dataframe tbody tr th {\n",
       "        vertical-align: top;\n",
       "    }\n",
       "\n",
       "    .dataframe thead th {\n",
       "        text-align: right;\n",
       "    }\n",
       "</style>\n",
       "<table border=\"1\" class=\"dataframe\">\n",
       "  <thead>\n",
       "    <tr style=\"text-align: right;\">\n",
       "      <th></th>\n",
       "      <th>housing_median_age</th>\n",
       "      <th>total_rooms</th>\n",
       "      <th>total_bedrooms</th>\n",
       "    </tr>\n",
       "  </thead>\n",
       "  <tbody>\n",
       "    <tr>\n",
       "      <th>8314</th>\n",
       "      <td>27.0</td>\n",
       "      <td>1675.0</td>\n",
       "      <td>521.0</td>\n",
       "    </tr>\n",
       "    <tr>\n",
       "      <th>8315</th>\n",
       "      <td>52.0</td>\n",
       "      <td>2359.0</td>\n",
       "      <td>591.0</td>\n",
       "    </tr>\n",
       "    <tr>\n",
       "      <th>8316</th>\n",
       "      <td>52.0</td>\n",
       "      <td>2127.0</td>\n",
       "      <td>512.0</td>\n",
       "    </tr>\n",
       "    <tr>\n",
       "      <th>8317</th>\n",
       "      <td>52.0</td>\n",
       "      <td>996.0</td>\n",
       "      <td>264.0</td>\n",
       "    </tr>\n",
       "    <tr>\n",
       "      <th>8318</th>\n",
       "      <td>29.0</td>\n",
       "      <td>716.0</td>\n",
       "      <td>214.0</td>\n",
       "    </tr>\n",
       "  </tbody>\n",
       "</table>\n",
       "</div>"
      ],
      "text/plain": [
       "      housing_median_age  total_rooms  total_bedrooms\n",
       "8314                27.0       1675.0           521.0\n",
       "8315                52.0       2359.0           591.0\n",
       "8316                52.0       2127.0           512.0\n",
       "8317                52.0        996.0           264.0\n",
       "8318                29.0        716.0           214.0"
      ]
     },
     "execution_count": 13,
     "metadata": {},
     "output_type": "execute_result"
    }
   ],
   "source": [
    "islands_df = data[data['ocean_proximity'] == 'ISLAND']\n",
    "islands_df = islands_df[['housing_median_age', 'total_rooms', 'total_bedrooms']]\n",
    "islands_df"
   ]
  },
  {
   "cell_type": "code",
   "execution_count": 14,
   "id": "415e6a04-e95f-48a0-9d67-333b043b41a7",
   "metadata": {},
   "outputs": [
    {
     "data": {
      "text/plain": [
       "array([[ 9.19403586e-04, -3.66412216e-05,  5.43072261e-05],\n",
       "       [-3.66412216e-05,  8.23303633e-06, -2.77534485e-05],\n",
       "       [ 5.43072261e-05, -2.77534485e-05,  1.00891325e-04]])"
      ]
     },
     "execution_count": 14,
     "metadata": {},
     "output_type": "execute_result"
    }
   ],
   "source": [
    "X = islands_df.to_numpy()\n",
    "XTX = X.T @ X\n",
    "XTX_inv = np.linalg.inv(XTX)\n",
    "XTX_inv"
   ]
  },
  {
   "cell_type": "code",
   "execution_count": 15,
   "id": "28317946-1735-48df-ac9f-46abbbad9065",
   "metadata": {},
   "outputs": [],
   "source": [
    "y = np.array([950, 1300, 800, 1000, 1300])"
   ]
  },
  {
   "cell_type": "code",
   "execution_count": 16,
   "id": "5c5c39b8-4edc-4e99-9fb7-36ad491295a3",
   "metadata": {},
   "outputs": [
    {
     "data": {
      "text/plain": [
       "array([23.12330961, -1.48124183,  5.69922946])"
      ]
     },
     "execution_count": 16,
     "metadata": {},
     "output_type": "execute_result"
    }
   ],
   "source": [
    "w = (XTX_inv @ X.T) @ y\n",
    "w"
   ]
  },
  {
   "cell_type": "code",
   "execution_count": 17,
   "id": "3efcf395-a176-46a1-864b-3723504ef51f",
   "metadata": {},
   "outputs": [
    {
     "data": {
      "text/plain": [
       "5.699229455065586"
      ]
     },
     "execution_count": 17,
     "metadata": {},
     "output_type": "execute_result"
    }
   ],
   "source": [
    "w[2]"
   ]
  },
  {
   "cell_type": "code",
   "execution_count": null,
   "id": "0045987a-05e2-47a5-bb51-61bcef691b44",
   "metadata": {},
   "outputs": [],
   "source": []
  }
 ],
 "metadata": {
  "kernelspec": {
   "display_name": "Python 3 (ipykernel)",
   "language": "python",
   "name": "python3"
  },
  "language_info": {
   "codemirror_mode": {
    "name": "ipython",
    "version": 3
   },
   "file_extension": ".py",
   "mimetype": "text/x-python",
   "name": "python",
   "nbconvert_exporter": "python",
   "pygments_lexer": "ipython3",
   "version": "3.10.6"
  }
 },
 "nbformat": 4,
 "nbformat_minor": 5
}
